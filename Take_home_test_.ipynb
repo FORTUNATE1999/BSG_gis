{
  "nbformat": 4,
  "nbformat_minor": 0,
  "metadata": {
    "colab": {
      "provenance": [],
      "authorship_tag": "ABX9TyMoRkqKfxr7HSOrmDFAXX+g",
      "include_colab_link": true
    },
    "kernelspec": {
      "name": "python3",
      "display_name": "Python 3"
    },
    "language_info": {
      "name": "python"
    }
  },
  "cells": [
    {
      "cell_type": "markdown",
      "metadata": {
        "id": "view-in-github",
        "colab_type": "text"
      },
      "source": [
        "<a href=\"https://colab.research.google.com/github/FORTUNATE1999/BSG_gis/blob/main/Take_home_test_.ipynb\" target=\"_parent\"><img src=\"https://colab.research.google.com/assets/colab-badge.svg\" alt=\"Open In Colab\"/></a>"
      ]
    },
    {
      "cell_type": "code",
      "execution_count": 4,
      "metadata": {
        "colab": {
          "base_uri": "https://localhost:8080/"
        },
        "id": "OSY47N3AShzB",
        "outputId": "742ba8cc-78fc-4490-d844-565258094a7c"
      },
      "outputs": [
        {
          "output_type": "stream",
          "name": "stdout",
          "text": [
            "5\n",
            "10.56\n"
          ]
        },
        {
          "output_type": "execute_result",
          "data": {
            "text/plain": [
              "(int, float)"
            ]
          },
          "metadata": {},
          "execution_count": 4
        }
      ],
      "source": [
        "# Simple variable asignment:\n",
        "x = 5\n",
        "y = 10.56\n",
        "print(x)\n",
        "print(y)\n",
        "type(x),type(y)"
      ]
    },
    {
      "cell_type": "code",
      "source": [
        "# print statement:\n",
        "print(\"Hello world!\")"
      ],
      "metadata": {
        "colab": {
          "base_uri": "https://localhost:8080/"
        },
        "id": "hWVaa4VwUmkk",
        "outputId": "c9d95bff-dc53-4a44-ce9b-b72d505e36b9"
      },
      "execution_count": 5,
      "outputs": [
        {
          "output_type": "stream",
          "name": "stdout",
          "text": [
            "Hello world!\n"
          ]
        }
      ]
    },
    {
      "cell_type": "code",
      "source": [
        "# variable concentration\n",
        "str1 = (\"Niwagaba\")\n",
        "str2 = (\"Arere\")\n",
        "str3 = (\"Fortunate\")\n",
        "print(str1 + str2 + str3)\n"
      ],
      "metadata": {
        "colab": {
          "base_uri": "https://localhost:8080/"
        },
        "id": "TArx0JVHVCRV",
        "outputId": "d5449bed-0570-4cb9-eace-da1ba4c47d12"
      },
      "execution_count": 7,
      "outputs": [
        {
          "output_type": "stream",
          "name": "stdout",
          "text": [
            "NiwagabaArereFortunate\n"
          ]
        }
      ]
    },
    {
      "cell_type": "code",
      "source": [
        "# Numeric operations:\n",
        "a = 40\n",
        "b = 160\n",
        "print(a+b)\n",
        "print(b/a)"
      ],
      "metadata": {
        "colab": {
          "base_uri": "https://localhost:8080/"
        },
        "id": "5jpnZGQ7WAzl",
        "outputId": "fb2a7138-afa8-4850-8035-a9923846cf10"
      },
      "execution_count": 8,
      "outputs": [
        {
          "output_type": "stream",
          "name": "stdout",
          "text": [
            "200\n",
            "4.0\n"
          ]
        }
      ]
    },
    {
      "cell_type": "code",
      "source": [
        "# string repetion:\n",
        "str = (\"Niwagaba\")\n",
        "print(str*5)"
      ],
      "metadata": {
        "colab": {
          "base_uri": "https://localhost:8080/"
        },
        "id": "HSDCfcSGXKot",
        "outputId": "3b1b759d-2009-4e4a-bf0c-ed7a09af8972"
      },
      "execution_count": 9,
      "outputs": [
        {
          "output_type": "stream",
          "name": "stdout",
          "text": [
            "NiwagabaNiwagabaNiwagabaNiwagabaNiwagaba\n"
          ]
        }
      ]
    },
    {
      "cell_type": "code",
      "source": [
        "# variable swap:\n",
        "a = 45\n",
        "b = 34\n",
        "print(a)\n",
        "print(b)\n",
        "\n",
        "temp = a\n",
        "a = b\n",
        "b = temp\n",
        "print(a)\n",
        "print(b)\n"
      ],
      "metadata": {
        "colab": {
          "base_uri": "https://localhost:8080/"
        },
        "id": "dgT_qFvZX_rn",
        "outputId": "ae67af07-f6ba-4397-a560-c201e7608bbc"
      },
      "execution_count": 11,
      "outputs": [
        {
          "output_type": "stream",
          "name": "stdout",
          "text": [
            "45\n",
            "34\n",
            "34\n",
            "45\n"
          ]
        }
      ]
    },
    {
      "cell_type": "code",
      "source": [
        "# string length:\n",
        "str = (\"Fortunate\")\n",
        "len(str)"
      ],
      "metadata": {
        "colab": {
          "base_uri": "https://localhost:8080/"
        },
        "id": "-5Q5GjBIZAHm",
        "outputId": "165f0e6d-b645-46d1-bf95-9a03e8d6f6e1"
      },
      "execution_count": 13,
      "outputs": [
        {
          "output_type": "execute_result",
          "data": {
            "text/plain": [
              "9"
            ]
          },
          "metadata": {},
          "execution_count": 13
        }
      ]
    },
    {
      "cell_type": "code",
      "source": [
        "# type conversion:\n",
        "x = 67\n",
        "str = (\"Fortunate\")\n"
      ],
      "metadata": {
        "id": "keJ_feYsZgFF"
      },
      "execution_count": null,
      "outputs": []
    }
  ]
}